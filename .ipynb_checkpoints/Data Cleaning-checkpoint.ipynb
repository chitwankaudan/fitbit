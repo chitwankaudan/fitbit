{
 "cells": [
  {
   "cell_type": "code",
   "execution_count": 162,
   "metadata": {},
   "outputs": [],
   "source": [
    "import numpy as np\n",
    "import pandas as pd"
   ]
  },
  {
   "cell_type": "code",
   "execution_count": 163,
   "metadata": {},
   "outputs": [],
   "source": [
    "sleep = pd.read_csv(\"sleepdata.csv\")"
   ]
  },
  {
   "cell_type": "code",
   "execution_count": 164,
   "metadata": {},
   "outputs": [],
   "source": [
    "# Data Cleaning\n",
    "sleep['Start Time'] = pd.to_datetime(sleep['Start Time'])\n",
    "sleep['End Time'] = pd.to_datetime(sleep['End Time'])"
   ]
  },
  {
   "cell_type": "code",
   "execution_count": 165,
   "metadata": {},
   "outputs": [
    {
     "name": "stdout",
     "output_type": "stream",
     "text": [
      "Start Hour: 0\n",
      "End Hour: 3\n"
     ]
    }
   ],
   "source": [
    "# Start and end hours for sleep time\n",
    "start_hour = sleep['Start Time'].dt.hour.min()\n",
    "end_hour = sleep['Start Time'].dt.hour.max() + 1\n",
    "print(\"Start Hour:\", start_hour)\n",
    "print(\"End Hour:\", end_hour)"
   ]
  },
  {
   "cell_type": "code",
   "execution_count": 171,
   "metadata": {},
   "outputs": [
    {
     "data": {
      "text/html": [
       "<div>\n",
       "<style scoped>\n",
       "    .dataframe tbody tr th:only-of-type {\n",
       "        vertical-align: middle;\n",
       "    }\n",
       "\n",
       "    .dataframe tbody tr th {\n",
       "        vertical-align: top;\n",
       "    }\n",
       "\n",
       "    .dataframe thead th {\n",
       "        text-align: right;\n",
       "    }\n",
       "</style>\n",
       "<table border=\"1\" class=\"dataframe\">\n",
       "  <thead>\n",
       "    <tr style=\"text-align: right;\">\n",
       "      <th></th>\n",
       "      <th>Datetime</th>\n",
       "      <th>Asleep</th>\n",
       "    </tr>\n",
       "  </thead>\n",
       "  <tbody>\n",
       "    <tr>\n",
       "      <th>0</th>\n",
       "      <td>2019-06-27 00:00:00</td>\n",
       "      <td>0</td>\n",
       "    </tr>\n",
       "    <tr>\n",
       "      <th>1</th>\n",
       "      <td>2019-06-27 00:01:00</td>\n",
       "      <td>0</td>\n",
       "    </tr>\n",
       "    <tr>\n",
       "      <th>2</th>\n",
       "      <td>2019-06-27 00:02:00</td>\n",
       "      <td>0</td>\n",
       "    </tr>\n",
       "    <tr>\n",
       "      <th>3</th>\n",
       "      <td>2019-06-27 00:03:00</td>\n",
       "      <td>0</td>\n",
       "    </tr>\n",
       "    <tr>\n",
       "      <th>4</th>\n",
       "      <td>2019-06-27 00:04:00</td>\n",
       "      <td>0</td>\n",
       "    </tr>\n",
       "  </tbody>\n",
       "</table>\n",
       "</div>"
      ],
      "text/plain": [
       "             Datetime  Asleep\n",
       "0 2019-06-27 00:00:00       0\n",
       "1 2019-06-27 00:01:00       0\n",
       "2 2019-06-27 00:02:00       0\n",
       "3 2019-06-27 00:03:00       0\n",
       "4 2019-06-27 00:04:00       0"
      ]
     },
     "execution_count": 171,
     "metadata": {},
     "output_type": "execute_result"
    }
   ],
   "source": [
    "days = sleep['Start Time'].dt.date\n",
    "start_datetime = sleep['Start Time'].dt.date.min() + pd.DateOffset(hours=int(start_hour))\n",
    "end_datetime = sleep['Start Time'].dt.date.max() + pd.DateOffset(hours=int(end_hour))\n",
    "dts = pd.date_range(start_datetime, end_datetime, freq='60S')\n",
    "\n",
    "# Build empty array\n",
    "sleepdf = pd.DataFrame()\n",
    "sleepdf['Datetime'] = dts\n",
    "sleepdf['Asleep'] = 0\n",
    "sleepdf = sleepdf.loc[(sleepdf['Datetime'].dt.date).isin(days),]\n",
    "sleepdf = sleepdf.loc[sleepdf['Datetime'].dt.hour < end_hour, ]\n",
    "sleepdf.head()"
   ]
  },
  {
   "cell_type": "code",
   "execution_count": 172,
   "metadata": {},
   "outputs": [],
   "source": [
    "# Asleep=1 when I am sleeping\n",
    "for i in range(sleep.shape[0]):\n",
    "    sleeptime = sleep.loc[i, 'Start Time']\n",
    "    waketime = sleep.loc[i, 'End Time']\n",
    "    sleepdf.loc[(sleepdf['Datetime'] >= sleeptime) & (sleepdf['Datetime'] < waketime), 'Asleep'] = 1"
   ]
  },
  {
   "cell_type": "code",
   "execution_count": 174,
   "metadata": {},
   "outputs": [],
   "source": [
    "sleepdf.to_csv(\"sleepdf.csv\")"
   ]
  },
  {
   "cell_type": "code",
   "execution_count": null,
   "metadata": {},
   "outputs": [],
   "source": []
  }
 ],
 "metadata": {
  "kernelspec": {
   "display_name": "Python [conda env:root] *",
   "language": "python",
   "name": "conda-root-py"
  },
  "language_info": {
   "codemirror_mode": {
    "name": "ipython",
    "version": 3
   },
   "file_extension": ".py",
   "mimetype": "text/x-python",
   "name": "python",
   "nbconvert_exporter": "python",
   "pygments_lexer": "ipython3",
   "version": "3.6.9"
  }
 },
 "nbformat": 4,
 "nbformat_minor": 2
}
