{
 "cells": [
  {
   "cell_type": "code",
   "execution_count": 1,
   "metadata": {},
   "outputs": [],
   "source": [
    "import numpy as np\n",
    "import pandas as pd"
   ]
  },
  {
   "cell_type": "code",
   "execution_count": 10,
   "metadata": {},
   "outputs": [],
   "source": [
    "sleep = pd.read_csv(\"raw_sleepdata.csv\")\n",
    "activity = pd.read_csv(\"activitydata.csv\")"
   ]
  },
  {
   "cell_type": "code",
   "execution_count": 11,
   "metadata": {},
   "outputs": [
    {
     "data": {
      "text/plain": [
       "0      2/1/20\n",
       "1      2/2/20\n",
       "2      2/3/20\n",
       "3      2/4/20\n",
       "4      2/5/20\n",
       "5      2/6/20\n",
       "6      2/7/20\n",
       "7      2/8/20\n",
       "8      2/9/20\n",
       "9     2/10/20\n",
       "10    2/11/20\n",
       "11    2/12/20\n",
       "12    2/13/20\n",
       "13    2/14/20\n",
       "14    2/15/20\n",
       "15    2/16/20\n",
       "16    2/17/20\n",
       "17    2/18/20\n",
       "18    2/19/20\n",
       "19    2/20/20\n",
       "20    2/21/20\n",
       "21    2/22/20\n",
       "22    2/23/20\n",
       "23    2/24/20\n",
       "24    2/25/20\n",
       "25    2/26/20\n",
       "26    2/27/20\n",
       "27    2/28/20\n",
       "28    2/29/20\n",
       "29     3/1/20\n",
       "30     3/2/20\n",
       "31     3/3/20\n",
       "32     3/4/20\n",
       "33     3/6/20\n",
       "34     3/7/20\n",
       "35     3/8/20\n",
       "36     3/9/20\n",
       "37    3/10/20\n",
       "38    3/11/20\n",
       "39    3/12/20\n",
       "40    3/13/20\n",
       "41    3/14/20\n",
       "42    3/15/20\n",
       "43    3/16/20\n",
       "44    3/17/20\n",
       "45    3/18/20\n",
       "46    3/19/20\n",
       "47    3/20/20\n",
       "48    3/21/20\n",
       "49    3/22/20\n",
       "50    3/23/20\n",
       "51    3/24/20\n",
       "52    3/25/20\n",
       "53    3/26/20\n",
       "54    3/27/20\n",
       "55    3/28/20\n",
       "56    3/29/20\n",
       "57    3/30/20\n",
       "58    3/31/20\n",
       "Name: Date, dtype: object"
      ]
     },
     "execution_count": 11,
     "metadata": {},
     "output_type": "execute_result"
    }
   ],
   "source": [
    "activity['Date']"
   ]
  },
  {
   "cell_type": "code",
   "execution_count": 12,
   "metadata": {},
   "outputs": [],
   "source": [
    "# Data Cleaning\n",
    "sleep['Start Time'] = pd.to_datetime(sleep['Start Time'])\n",
    "sleep['End Time'] = pd.to_datetime(sleep['End Time'])\n",
    "# Change datetime format to prep for merge\n",
    "sleep['Date'] = sleep['Start Time'].dt.strftime('%m/%d/%y')"
   ]
  },
  {
   "cell_type": "code",
   "execution_count": null,
   "metadata": {},
   "outputs": [],
   "source": []
  },
  {
   "cell_type": "code",
   "execution_count": null,
   "metadata": {},
   "outputs": [],
   "source": []
  },
  {
   "cell_type": "code",
   "execution_count": null,
   "metadata": {},
   "outputs": [],
   "source": []
  },
  {
   "cell_type": "code",
   "execution_count": null,
   "metadata": {},
   "outputs": [],
   "source": []
  },
  {
   "cell_type": "code",
   "execution_count": null,
   "metadata": {},
   "outputs": [],
   "source": []
  },
  {
   "cell_type": "code",
   "execution_count": null,
   "metadata": {},
   "outputs": [],
   "source": []
  },
  {
   "cell_type": "code",
   "execution_count": null,
   "metadata": {},
   "outputs": [],
   "source": []
  },
  {
   "cell_type": "code",
   "execution_count": null,
   "metadata": {},
   "outputs": [],
   "source": []
  },
  {
   "cell_type": "code",
   "execution_count": null,
   "metadata": {},
   "outputs": [],
   "source": []
  },
  {
   "cell_type": "code",
   "execution_count": null,
   "metadata": {},
   "outputs": [],
   "source": []
  },
  {
   "cell_type": "code",
   "execution_count": null,
   "metadata": {},
   "outputs": [],
   "source": []
  },
  {
   "cell_type": "code",
   "execution_count": null,
   "metadata": {},
   "outputs": [],
   "source": []
  },
  {
   "cell_type": "code",
   "execution_count": null,
   "metadata": {},
   "outputs": [],
   "source": []
  },
  {
   "cell_type": "code",
   "execution_count": null,
   "metadata": {},
   "outputs": [],
   "source": []
  },
  {
   "cell_type": "code",
   "execution_count": null,
   "metadata": {},
   "outputs": [],
   "source": []
  },
  {
   "cell_type": "code",
   "execution_count": null,
   "metadata": {},
   "outputs": [],
   "source": []
  },
  {
   "cell_type": "code",
   "execution_count": null,
   "metadata": {},
   "outputs": [],
   "source": []
  },
  {
   "cell_type": "code",
   "execution_count": null,
   "metadata": {},
   "outputs": [],
   "source": []
  },
  {
   "cell_type": "code",
   "execution_count": null,
   "metadata": {},
   "outputs": [],
   "source": []
  },
  {
   "cell_type": "code",
   "execution_count": 4,
   "metadata": {},
   "outputs": [
    {
     "name": "stdout",
     "output_type": "stream",
     "text": [
      "Start Hour: 0\n",
      "End Hour: 4\n"
     ]
    }
   ],
   "source": [
    "# Start and end hours for sleep time\n",
    "start_hour = sleep['Start Time'].dt.hour.min()\n",
    "end_hour = sleep['Start Time'].dt.hour.max() + 1\n",
    "print(\"Start Hour:\", start_hour)\n",
    "print(\"End Hour:\", end_hour)"
   ]
  },
  {
   "cell_type": "code",
   "execution_count": 5,
   "metadata": {},
   "outputs": [
    {
     "data": {
      "text/html": [
       "<div>\n",
       "<style scoped>\n",
       "    .dataframe tbody tr th:only-of-type {\n",
       "        vertical-align: middle;\n",
       "    }\n",
       "\n",
       "    .dataframe tbody tr th {\n",
       "        vertical-align: top;\n",
       "    }\n",
       "\n",
       "    .dataframe thead th {\n",
       "        text-align: right;\n",
       "    }\n",
       "</style>\n",
       "<table border=\"1\" class=\"dataframe\">\n",
       "  <thead>\n",
       "    <tr style=\"text-align: right;\">\n",
       "      <th></th>\n",
       "      <th>Datetime</th>\n",
       "      <th>Asleep</th>\n",
       "    </tr>\n",
       "  </thead>\n",
       "  <tbody>\n",
       "    <tr>\n",
       "      <th>0</th>\n",
       "      <td>2020-02-02 00:00:00</td>\n",
       "      <td>0</td>\n",
       "    </tr>\n",
       "    <tr>\n",
       "      <th>1</th>\n",
       "      <td>2020-02-02 00:01:00</td>\n",
       "      <td>0</td>\n",
       "    </tr>\n",
       "    <tr>\n",
       "      <th>2</th>\n",
       "      <td>2020-02-02 00:02:00</td>\n",
       "      <td>0</td>\n",
       "    </tr>\n",
       "    <tr>\n",
       "      <th>3</th>\n",
       "      <td>2020-02-02 00:03:00</td>\n",
       "      <td>0</td>\n",
       "    </tr>\n",
       "    <tr>\n",
       "      <th>4</th>\n",
       "      <td>2020-02-02 00:04:00</td>\n",
       "      <td>0</td>\n",
       "    </tr>\n",
       "  </tbody>\n",
       "</table>\n",
       "</div>"
      ],
      "text/plain": [
       "             Datetime  Asleep\n",
       "0 2020-02-02 00:00:00       0\n",
       "1 2020-02-02 00:01:00       0\n",
       "2 2020-02-02 00:02:00       0\n",
       "3 2020-02-02 00:03:00       0\n",
       "4 2020-02-02 00:04:00       0"
      ]
     },
     "execution_count": 5,
     "metadata": {},
     "output_type": "execute_result"
    }
   ],
   "source": [
    "days = sleep['Start Time'].dt.date\n",
    "start_datetime = sleep['Start Time'].dt.date.min() + pd.DateOffset(hours=int(start_hour))\n",
    "end_datetime = sleep['Start Time'].dt.date.max() + pd.DateOffset(hours=int(end_hour))\n",
    "dts = pd.date_range(start_datetime, end_datetime, freq='60S')\n",
    "\n",
    "# Build empty array\n",
    "sleepdf = pd.DataFrame()\n",
    "sleepdf['Datetime'] = dts\n",
    "sleepdf['Asleep'] = 0\n",
    "sleepdf = sleepdf.loc[(sleepdf['Datetime'].dt.date).isin(days),]\n",
    "sleepdf = sleepdf.loc[sleepdf['Datetime'].dt.hour < end_hour, ]\n",
    "sleepdf.head()"
   ]
  },
  {
   "cell_type": "code",
   "execution_count": 6,
   "metadata": {},
   "outputs": [],
   "source": [
    "# Asleep=1 when I am sleeping\n",
    "for i in range(sleep.shape[0]):\n",
    "    sleeptime = sleep.loc[i, 'Start Time']\n",
    "    waketime = sleep.loc[i, 'End Time']\n",
    "    sleepdf.loc[(sleepdf['Datetime'] >= sleeptime) & (sleepdf['Datetime'] < waketime), 'Asleep'] = 1"
   ]
  },
  {
   "cell_type": "code",
   "execution_count": 7,
   "metadata": {},
   "outputs": [],
   "source": [
    "sleepdf.to_csv(\"sleepdf.csv\")"
   ]
  },
  {
   "cell_type": "code",
   "execution_count": null,
   "metadata": {},
   "outputs": [],
   "source": []
  }
 ],
 "metadata": {
  "kernelspec": {
   "display_name": "Python [conda env:root] *",
   "language": "python",
   "name": "conda-root-py"
  },
  "language_info": {
   "codemirror_mode": {
    "name": "ipython",
    "version": 3
   },
   "file_extension": ".py",
   "mimetype": "text/x-python",
   "name": "python",
   "nbconvert_exporter": "python",
   "pygments_lexer": "ipython3",
   "version": "3.6.9"
  }
 },
 "nbformat": 4,
 "nbformat_minor": 2
}
